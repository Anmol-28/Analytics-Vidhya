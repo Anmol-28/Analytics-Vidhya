{
 "cells": [
  {
   "cell_type": "markdown",
   "execution_count": null,
   "metadata": {},
   "source": [
    "<img src='https://datahack-prod.s3.ap-south-1.amazonaws.com/__sized__/contest_cover/Customer_Segmentation-thumbnail-1200x1200-90.jpg' height=600 width=750/>"
   ]
  },
  {
   "cell_type": "markdown",
   "execution_count": null,
   "metadata": {},
   "source": [
    "## Problem Statement\n",
    "\n",
    "An automobile company has plans to enter new markets with their existing products (P1, P2, P3, P4 and P5). After intensive market research, they’ve deduced that the behavior of new market is similar to their existing market. \n",
    "\n",
    "In their existing market, the sales team has classified all customers into 4 segments (A, B, C, D ). Then, they performed segmented outreach and communication for different segment of customers. This strategy has work exceptionally well for them. They plan to use the same strategy on new markets and have identified 2627 new potential customers. \n",
    "\n",
    "- ```You are required to help the manager to predict the right group of the new customers```."
   ]
  },
  {
   "cell_type": "markdown",
   "execution_count": null,
   "metadata": {},
   "source": [
    "| <font color='blue'><h2>Column Name</h2></font>                       | <font color='blue'><h2>Description</h2></font>                                                                                        |\n",
    "| ------------------------------------------------|:-----------------------------------------------------------------------------------------------------------------------:|\n",
    "| Id                       | UniqueID                                                                                                   | \n",
    "| Gender                          | \tGender of the customer                                                                  | \n",
    "| Ever_Married                            | Marital status of the customer                                                                                    | \n",
    "| Age                              | Age of the customer                                                                                 | \n",
    "| Graduated                               | Is the customer a graduate?                                                                                   |\n",
    "| Profession                               | Profession of the customer                                                                                   |\n",
    "|Work_Experience                             |  Work Experience in years                   |\n",
    "| Spending_Score                             | Spending score of the customer                                          |\n",
    "| Family_Size                             | Number of family members for the customer (including the customer)\n",
    "                                         |\n",
    "|Var_1                              |   Anonymised Category for the customer        |\n",
    "| <b><u>Segmentation</u></b>         |\t<b><u>(target) Customer Segment of the customer</u></b>                                                 |"
   ]
  },
  {
   "cell_type": "code",
   "execution_count": 1,
   "metadata": {
    "_cell_guid": "b1076dfc-b9ad-4769-8c92-a6c4dae69d19",
    "_uuid": "8f2839f25d086af736a60e9eeb907d3b93b6e0e5"
   },
   "outputs": [
    {
     "name": "stdout",
     "output_type": "stream",
     "text": [
      "/kaggle/input/automobile-customer-segmentation/train.csv\n",
      "/kaggle/input/automobile-customer-segmentation/test.csv\n",
      "/kaggle/input/automobile-customer-segmentation/sample_submission.csv\n"
     ]
    }
   ],
   "source": [
    "# This Python 3 environment comes with many helpful analytics libraries installed\n",
    "# It is defined by the kaggle/python Docker image: https://github.com/kaggle/docker-python\n",
    "# For example, here's several helpful packages to load\n",
    "\n",
    "import numpy as np # linear algebra\n",
    "import pandas as pd # data processing, CSV file I/O (e.g. pd.read_csv)\n",
    "\n",
    "# Input data files are available in the read-only \"../input/\" directory\n",
    "# For example, running this (by clicking run or pressing Shift+Enter) will list all files under the input directory\n",
    "\n",
    "import os\n",
    "for dirname, _, filenames in os.walk('/kaggle/input'):\n",
    "    for filename in filenames:\n",
    "        print(os.path.join(dirname, filename))\n",
    "\n",
    "# You can write up to 5GB to the current directory (/kaggle/working/) that gets preserved as output when you create a version using \"Save & Run All\" \n",
    "# You can also write temporary files to /kaggle/temp/, but they won't be saved outside of the current session"
   ]
  },
  {
   "cell_type": "code",
   "execution_count": 2,
   "metadata": {
    "_cell_guid": "79c7e3d0-c299-4dcb-8224-4455121ee9b0",
    "_uuid": "d629ff2d2480ee46fbb7e2d37f6b5fab8052498a"
   },
   "outputs": [],
   "source": [
    "from numpy import mean, std\n",
    "import seaborn as sns\n",
    "from matplotlib import *\n",
    "from matplotlib import pyplot as plt\n",
    "from catboost import CatBoostClassifier\n",
    "from sklearn.ensemble import GradientBoostingClassifier, RandomForestClassifier\n",
    "from sklearn.preprocessing import StandardScaler, LabelEncoder\n",
    "from sklearn.model_selection import train_test_split, KFold, StratifiedKFold, cross_val_score, RepeatedStratifiedKFold\n",
    "from sklearn.metrics import accuracy_score\n",
    "from lightgbm import LGBMClassifier"
   ]
  },
  {
   "cell_type": "code",
   "execution_count": 3,
   "metadata": {},
   "outputs": [],
   "source": [
    "train_data = pd.read_csv('/kaggle/input/automobile-customer-segmentation/train.csv')\n",
    "test_data = pd.read_csv('/kaggle/input/automobile-customer-segmentation/test.csv')\n",
    "sample_submission = pd.read_csv('/kaggle/input/automobile-customer-segmentation/sample_submission.csv')\n",
    "train_data.columns = train_data.columns.str.lower().str.strip().str.replace(' ', '_').str.replace('(', '').str.replace(')', '')\n",
    "test_data.columns = test_data.columns.str.lower().str.strip().str.replace(' ', '_').str.replace('(', '').str.replace(')', '')"
   ]
  },
  {
   "cell_type": "code",
   "execution_count": 4,
   "metadata": {},
   "outputs": [
    {
     "name": "stdout",
     "output_type": "stream",
     "text": [
      "Train Data Shape:  (8068, 11)\n",
      "Test Data Shape:  (2627, 10)\n"
     ]
    },
    {
     "data": {
      "text/html": [
       "<div>\n",
       "<style scoped>\n",
       "    .dataframe tbody tr th:only-of-type {\n",
       "        vertical-align: middle;\n",
       "    }\n",
       "\n",
       "    .dataframe tbody tr th {\n",
       "        vertical-align: top;\n",
       "    }\n",
       "\n",
       "    .dataframe thead th {\n",
       "        text-align: right;\n",
       "    }\n",
       "</style>\n",
       "<table border=\"1\" class=\"dataframe\">\n",
       "  <thead>\n",
       "    <tr style=\"text-align: right;\">\n",
       "      <th></th>\n",
       "      <th>id</th>\n",
       "      <th>gender</th>\n",
       "      <th>ever_married</th>\n",
       "      <th>age</th>\n",
       "      <th>graduated</th>\n",
       "      <th>profession</th>\n",
       "      <th>work_experience</th>\n",
       "      <th>spending_score</th>\n",
       "      <th>family_size</th>\n",
       "      <th>var_1</th>\n",
       "      <th>segmentation</th>\n",
       "    </tr>\n",
       "  </thead>\n",
       "  <tbody>\n",
       "    <tr>\n",
       "      <th>0</th>\n",
       "      <td>462809</td>\n",
       "      <td>Male</td>\n",
       "      <td>No</td>\n",
       "      <td>22</td>\n",
       "      <td>No</td>\n",
       "      <td>Healthcare</td>\n",
       "      <td>1.0</td>\n",
       "      <td>Low</td>\n",
       "      <td>4.0</td>\n",
       "      <td>Cat_4</td>\n",
       "      <td>D</td>\n",
       "    </tr>\n",
       "    <tr>\n",
       "      <th>1</th>\n",
       "      <td>462643</td>\n",
       "      <td>Female</td>\n",
       "      <td>Yes</td>\n",
       "      <td>38</td>\n",
       "      <td>Yes</td>\n",
       "      <td>Engineer</td>\n",
       "      <td>NaN</td>\n",
       "      <td>Average</td>\n",
       "      <td>3.0</td>\n",
       "      <td>Cat_4</td>\n",
       "      <td>A</td>\n",
       "    </tr>\n",
       "    <tr>\n",
       "      <th>2</th>\n",
       "      <td>466315</td>\n",
       "      <td>Female</td>\n",
       "      <td>Yes</td>\n",
       "      <td>67</td>\n",
       "      <td>Yes</td>\n",
       "      <td>Engineer</td>\n",
       "      <td>1.0</td>\n",
       "      <td>Low</td>\n",
       "      <td>1.0</td>\n",
       "      <td>Cat_6</td>\n",
       "      <td>B</td>\n",
       "    </tr>\n",
       "    <tr>\n",
       "      <th>3</th>\n",
       "      <td>461735</td>\n",
       "      <td>Male</td>\n",
       "      <td>Yes</td>\n",
       "      <td>67</td>\n",
       "      <td>Yes</td>\n",
       "      <td>Lawyer</td>\n",
       "      <td>0.0</td>\n",
       "      <td>High</td>\n",
       "      <td>2.0</td>\n",
       "      <td>Cat_6</td>\n",
       "      <td>B</td>\n",
       "    </tr>\n",
       "    <tr>\n",
       "      <th>4</th>\n",
       "      <td>462669</td>\n",
       "      <td>Female</td>\n",
       "      <td>Yes</td>\n",
       "      <td>40</td>\n",
       "      <td>Yes</td>\n",
       "      <td>Entertainment</td>\n",
       "      <td>NaN</td>\n",
       "      <td>High</td>\n",
       "      <td>6.0</td>\n",
       "      <td>Cat_6</td>\n",
       "      <td>A</td>\n",
       "    </tr>\n",
       "  </tbody>\n",
       "</table>\n",
       "</div>"
      ],
      "text/plain": [
       "       id  gender ever_married  age graduated     profession  work_experience  \\\n",
       "0  462809    Male           No   22        No     Healthcare              1.0   \n",
       "1  462643  Female          Yes   38       Yes       Engineer              NaN   \n",
       "2  466315  Female          Yes   67       Yes       Engineer              1.0   \n",
       "3  461735    Male          Yes   67       Yes         Lawyer              0.0   \n",
       "4  462669  Female          Yes   40       Yes  Entertainment              NaN   \n",
       "\n",
       "  spending_score  family_size  var_1 segmentation  \n",
       "0            Low          4.0  Cat_4            D  \n",
       "1        Average          3.0  Cat_4            A  \n",
       "2            Low          1.0  Cat_6            B  \n",
       "3           High          2.0  Cat_6            B  \n",
       "4           High          6.0  Cat_6            A  "
      ]
     },
     "execution_count": 4,
     "metadata": {},
     "output_type": "execute_result"
    }
   ],
   "source": [
    "print('Train Data Shape: ', train_data.shape)\n",
    "print('Test Data Shape: ', test_data.shape)\n",
    "train_data.head()"
   ]
  },
  {
   "cell_type": "code",
   "execution_count": 5,
   "metadata": {},
   "outputs": [
    {
     "data": {
      "text/plain": [
       "id                   int64\n",
       "gender              object\n",
       "ever_married        object\n",
       "age                  int64\n",
       "graduated           object\n",
       "profession          object\n",
       "work_experience    float64\n",
       "spending_score      object\n",
       "family_size        float64\n",
       "var_1               object\n",
       "segmentation        object\n",
       "dtype: object"
      ]
     },
     "execution_count": 5,
     "metadata": {},
     "output_type": "execute_result"
    }
   ],
   "source": [
    "train_data.dtypes"
   ]
  },
  {
   "cell_type": "code",
   "execution_count": 6,
   "metadata": {},
   "outputs": [
    {
     "data": {
      "text/plain": [
       "id                   0\n",
       "gender               0\n",
       "ever_married       140\n",
       "age                  0\n",
       "graduated           78\n",
       "profession         124\n",
       "work_experience    829\n",
       "spending_score       0\n",
       "family_size        335\n",
       "var_1               76\n",
       "segmentation         0\n",
       "dtype: int64"
      ]
     },
     "execution_count": 6,
     "metadata": {},
     "output_type": "execute_result"
    }
   ],
   "source": [
    "train_data.isnull().sum()"
   ]
  },
  {
   "cell_type": "code",
   "execution_count": 7,
   "metadata": {},
   "outputs": [
    {
     "name": "stdout",
     "output_type": "stream",
     "text": [
      " Unique Values --> gender : 2 :  ['Male' 'Female']\n",
      " Unique Values --> ever_married : 3 :  ['No' 'Yes' nan]\n",
      " Unique Values --> graduated : 3 :  ['No' 'Yes' nan]\n",
      " Unique Values --> profession : 10 :  ['Healthcare' 'Engineer' 'Lawyer' 'Entertainment' 'Artist' 'Executive'\n",
      " 'Doctor' 'Homemaker' 'Marketing' nan]\n",
      " Unique Values --> spending_score : 3 :  ['Low' 'Average' 'High']\n",
      " Unique Values --> family_size : 10 :  [ 4.  3.  1.  2.  6. nan  5.  8.  7.  9.]\n",
      " Unique Values --> var_1 : 8 :  ['Cat_4' 'Cat_6' 'Cat_7' 'Cat_3' 'Cat_1' 'Cat_2' nan 'Cat_5']\n"
     ]
    }
   ],
   "source": [
    "# Unique values for all the columns\n",
    "for col in ['gender', 'ever_married', 'graduated', 'profession', 'spending_score', 'family_size', 'var_1']:\n",
    "    print(\" Unique Values --> \" + col, ':', len(train_data[col].unique()), ': ', train_data[col].unique())"
   ]
  },
  {
   "cell_type": "code",
   "execution_count": 8,
   "metadata": {},
   "outputs": [
    {
     "name": "stdout",
     "output_type": "stream",
     "text": [
      "segmentation: \n",
      " D    2268\n",
      "A    1972\n",
      "C    1970\n",
      "B    1858\n",
      "Name: segmentation, dtype: int64 \n",
      "\n",
      "gender: \n",
      " Male      4417\n",
      "Female    3651\n",
      "Name: gender, dtype: int64 \n",
      "\n",
      "ever_married: \n",
      " Yes    4643\n",
      "No     3285\n",
      "Name: ever_married, dtype: int64 \n",
      "\n",
      "graduated: \n",
      " Yes    4968\n",
      "No     3022\n",
      "Name: graduated, dtype: int64 \n",
      "\n",
      "profession: \n",
      " Artist           2516\n",
      "Healthcare       1332\n",
      "Entertainment     949\n",
      "Engineer          699\n",
      "Doctor            688\n",
      "Lawyer            623\n",
      "Executive         599\n",
      "Marketing         292\n",
      "Homemaker         246\n",
      "Name: profession, dtype: int64 \n",
      "\n",
      "spending_score: \n",
      " Low        4878\n",
      "Average    1974\n",
      "High       1216\n",
      "Name: spending_score, dtype: int64 \n",
      "\n",
      "family_size: \n",
      " 2.0    2390\n",
      "3.0    1497\n",
      "1.0    1453\n",
      "4.0    1379\n",
      "5.0     612\n",
      "6.0     212\n",
      "7.0      96\n",
      "8.0      50\n",
      "9.0      44\n",
      "Name: family_size, dtype: int64 \n",
      "\n",
      "var_1: \n",
      " Cat_6    5238\n",
      "Cat_4    1089\n",
      "Cat_3     822\n",
      "Cat_2     422\n",
      "Cat_7     203\n",
      "Cat_1     133\n",
      "Cat_5      85\n",
      "Name: var_1, dtype: int64 \n",
      "\n"
     ]
    }
   ],
   "source": [
    "# Value counts for the columns\n",
    "for col in ['segmentation', 'gender', 'ever_married', 'graduated', 'profession', 'spending_score', 'family_size', 'var_1']:\n",
    "    print(col + \": \\n\", train_data[col].value_counts(), '\\n')"
   ]
  },
  {
   "cell_type": "markdown",
   "execution_count": null,
   "metadata": {},
   "source": [
    "## Exploratory Data analysis"
   ]
  },
  {
   "cell_type": "code",
   "execution_count": 9,
   "metadata": {},
   "outputs": [
    {
     "data": {
      "image/png": "[encoded data removed]",
      "text/plain": [
       "<Figure size 2880x720 with 1 Axes>"
      ]
     },
     "metadata": {
      "needs_background": "light"
     },
     "output_type": "display_data"
    },
    {
     "data": {
      "image/png": "[encoded data removed]",
      "text/plain": [
       "<Figure size 2880x720 with 1 Axes>"
      ]
     },
     "metadata": {
      "needs_background": "light"
     },
     "output_type": "display_data"
    },
    {
     "data": {
      "image/png": "[encoded data removed]",
      "text/plain": [
       "<Figure size 2880x720 with 1 Axes>"
      ]
     },
     "metadata": {
      "needs_background": "light"
     },
     "output_type": "display_data"
    },
    {
     "data": {
      "image/png": "[encoded data removed]",
      "text/plain": [
       "<Figure size 2880x720 with 1 Axes>"
      ]
     },
     "metadata": {
      "needs_background": "light"
     },
     "output_type": "display_data"
    },
    {
     "data": {
      "image/png": "[encoded data removed]",
      "text/plain": [
       "<Figure size 2880x720 with 1 Axes>"
      ]
     },
     "metadata": {
      "needs_background": "light"
     },
     "output_type": "display_data"
    },
    {
     "data": {
      "image/png": "[encoded data removed]",
      "text/plain": [
       "<Figure size 2880x720 with 1 Axes>"
      ]
     },
     "metadata": {
      "needs_background": "light"
     },
     "output_type": "display_data"
    },
    {
     "data": {
      "image/png": "[encoded data removed]",
      "text/plain": [
       "<Figure size 2880x720 with 1 Axes>"
      ]
     },
     "metadata": {
      "needs_background": "light"
     },
     "output_type": "display_data"
    }
   ],
   "source": [
    "i = 1\n",
    "for column in train_data.columns[~(train_data.columns.isin(['age', 'id', 'work_experience', 'family_size']))].tolist():\n",
    "    plt.figure(figsize = (40, 10))\n",
    "    plt.subplot(3, 3, i)\n",
    "    sns.barplot(x = train_data[column].value_counts().index, y = train_data[column].value_counts())\n",
    "    i += 1\n",
    "    plt.show()"
   ]
  },
  {
   "cell_type": "code",
   "execution_count": 10,
   "metadata": {},
   "outputs": [
    {
     "data": {
      "image/png": "[encoded data removed]",
      "text/plain": [
       "<Figure size 432x288 with 1 Axes>"
      ]
     },
     "metadata": {
      "needs_background": "light"
     },
     "output_type": "display_data"
    }
   ],
   "source": [
    "sns.boxplot(x = 'age', data = train_data)\n",
    "sns.despine()"
   ]
  },
  {
   "cell_type": "code",
   "execution_count": 11,
   "metadata": {},
   "outputs": [
    {
     "data": {
      "image/png": "[encoded data removed]",
      "text/plain": [
       "<Figure size 1440x432 with 1 Axes>"
      ]
     },
     "metadata": {
      "needs_background": "light"
     },
     "output_type": "display_data"
    }
   ],
   "source": [
    "plt.figure(figsize = (20, 6))\n",
    "sns.barplot(x = train_data.groupby(['profession'])['spending_score'].value_counts().index, y = train_data.groupby(['profession'])['spending_score'].value_counts())\n",
    "plt.xticks(rotation = 90)\n",
    "sns.despine()"
   ]
  },
  {
   "cell_type": "markdown",
   "execution_count": null,
   "metadata": {},
   "source": [
    "### Found additional info by sorting the data (train + test) by IDs"
   ]
  },
  {
   "cell_type": "code",
   "execution_count": 12,
   "metadata": {},
   "outputs": [
    {
     "data": {
      "text/html": [
       "<div>\n",
       "<style scoped>\n",
       "    .dataframe tbody tr th:only-of-type {\n",
       "        vertical-align: middle;\n",
       "    }\n",
       "\n",
       "    .dataframe tbody tr th {\n",
       "        vertical-align: top;\n",
       "    }\n",
       "\n",
       "    .dataframe thead th {\n",
       "        text-align: right;\n",
       "    }\n",
       "</style>\n",
       "<table border=\"1\" class=\"dataframe\">\n",
       "  <thead>\n",
       "    <tr style=\"text-align: right;\">\n",
       "      <th></th>\n",
       "      <th>id</th>\n",
       "      <th>gender</th>\n",
       "      <th>ever_married</th>\n",
       "      <th>graduated</th>\n",
       "      <th>profession</th>\n",
       "      <th>work_experience</th>\n",
       "      <th>spending_score</th>\n",
       "      <th>family_size</th>\n",
       "      <th>var_1</th>\n",
       "      <th>segmentation</th>\n",
       "      <th>type</th>\n",
       "      <th>assumed_seg</th>\n",
       "    </tr>\n",
       "  </thead>\n",
       "  <tbody>\n",
       "    <tr>\n",
       "      <th>0</th>\n",
       "      <td>462809</td>\n",
       "      <td>Male</td>\n",
       "      <td>No</td>\n",
       "      <td>No</td>\n",
       "      <td>Healthcare</td>\n",
       "      <td>1.0</td>\n",
       "      <td>Low</td>\n",
       "      <td>4.0</td>\n",
       "      <td>Cat_4</td>\n",
       "      <td>D</td>\n",
       "      <td>train</td>\n",
       "      <td>D</td>\n",
       "    </tr>\n",
       "    <tr>\n",
       "      <th>1</th>\n",
       "      <td>462643</td>\n",
       "      <td>Female</td>\n",
       "      <td>Yes</td>\n",
       "      <td>Yes</td>\n",
       "      <td>Engineer</td>\n",
       "      <td>NaN</td>\n",
       "      <td>Average</td>\n",
       "      <td>3.0</td>\n",
       "      <td>Cat_4</td>\n",
       "      <td>A</td>\n",
       "      <td>train</td>\n",
       "      <td>A</td>\n",
       "    </tr>\n",
       "    <tr>\n",
       "      <th>2</th>\n",
       "      <td>466315</td>\n",
       "      <td>Female</td>\n",
       "      <td>Yes</td>\n",
       "      <td>Yes</td>\n",
       "      <td>Engineer</td>\n",
       "      <td>1.0</td>\n",
       "      <td>Low</td>\n",
       "      <td>1.0</td>\n",
       "      <td>Cat_6</td>\n",
       "      <td>B</td>\n",
       "      <td>train</td>\n",
       "      <td>B</td>\n",
       "    </tr>\n",
       "    <tr>\n",
       "      <th>3</th>\n",
       "      <td>461735</td>\n",
       "      <td>Male</td>\n",
       "      <td>Yes</td>\n",
       "      <td>Yes</td>\n",
       "      <td>Lawyer</td>\n",
       "      <td>0.0</td>\n",
       "      <td>High</td>\n",
       "      <td>2.0</td>\n",
       "      <td>Cat_6</td>\n",
       "      <td>B</td>\n",
       "      <td>train</td>\n",
       "      <td>B</td>\n",
       "    </tr>\n",
       "    <tr>\n",
       "      <th>4</th>\n",
       "      <td>462669</td>\n",
       "      <td>Female</td>\n",
       "      <td>Yes</td>\n",
       "      <td>Yes</td>\n",
       "      <td>Entertainment</td>\n",
       "      <td>NaN</td>\n",
       "      <td>High</td>\n",
       "      <td>6.0</td>\n",
       "      <td>Cat_6</td>\n",
       "      <td>A</td>\n",
       "      <td>train</td>\n",
       "      <td>A</td>\n",
       "    </tr>\n",
       "    <tr>\n",
       "      <th>5</th>\n",
       "      <td>461319</td>\n",
       "      <td>Male</td>\n",
       "      <td>Yes</td>\n",
       "      <td>No</td>\n",
       "      <td>Artist</td>\n",
       "      <td>0.0</td>\n",
       "      <td>Average</td>\n",
       "      <td>2.0</td>\n",
       "      <td>Cat_6</td>\n",
       "      <td>C</td>\n",
       "      <td>train</td>\n",
       "      <td>C</td>\n",
       "    </tr>\n",
       "    <tr>\n",
       "      <th>6</th>\n",
       "      <td>460156</td>\n",
       "      <td>Male</td>\n",
       "      <td>No</td>\n",
       "      <td>Yes</td>\n",
       "      <td>Healthcare</td>\n",
       "      <td>1.0</td>\n",
       "      <td>Low</td>\n",
       "      <td>3.0</td>\n",
       "      <td>Cat_6</td>\n",
       "      <td>C</td>\n",
       "      <td>train</td>\n",
       "      <td>C</td>\n",
       "    </tr>\n",
       "    <tr>\n",
       "      <th>7</th>\n",
       "      <td>464347</td>\n",
       "      <td>Female</td>\n",
       "      <td>No</td>\n",
       "      <td>Yes</td>\n",
       "      <td>Healthcare</td>\n",
       "      <td>1.0</td>\n",
       "      <td>Low</td>\n",
       "      <td>3.0</td>\n",
       "      <td>Cat_6</td>\n",
       "      <td>D</td>\n",
       "      <td>train</td>\n",
       "      <td>D</td>\n",
       "    </tr>\n",
       "    <tr>\n",
       "      <th>8</th>\n",
       "      <td>465015</td>\n",
       "      <td>Female</td>\n",
       "      <td>Yes</td>\n",
       "      <td>Yes</td>\n",
       "      <td>Engineer</td>\n",
       "      <td>0.0</td>\n",
       "      <td>Low</td>\n",
       "      <td>3.0</td>\n",
       "      <td>Cat_7</td>\n",
       "      <td>D</td>\n",
       "      <td>train</td>\n",
       "      <td>D</td>\n",
       "    </tr>\n",
       "    <tr>\n",
       "      <th>9</th>\n",
       "      <td>465176</td>\n",
       "      <td>Female</td>\n",
       "      <td>Yes</td>\n",
       "      <td>Yes</td>\n",
       "      <td>Artist</td>\n",
       "      <td>1.0</td>\n",
       "      <td>Average</td>\n",
       "      <td>4.0</td>\n",
       "      <td>Cat_6</td>\n",
       "      <td>C</td>\n",
       "      <td>train</td>\n",
       "      <td>C</td>\n",
       "    </tr>\n",
       "    <tr>\n",
       "      <th>10</th>\n",
       "      <td>464041</td>\n",
       "      <td>Female</td>\n",
       "      <td>No</td>\n",
       "      <td>Yes</td>\n",
       "      <td>Engineer</td>\n",
       "      <td>1.0</td>\n",
       "      <td>Low</td>\n",
       "      <td>3.0</td>\n",
       "      <td>Cat_6</td>\n",
       "      <td>A</td>\n",
       "      <td>train</td>\n",
       "      <td>A</td>\n",
       "    </tr>\n",
       "    <tr>\n",
       "      <th>11</th>\n",
       "      <td>464942</td>\n",
       "      <td>Male</td>\n",
       "      <td>No</td>\n",
       "      <td>No</td>\n",
       "      <td>Healthcare</td>\n",
       "      <td>4.0</td>\n",
       "      <td>Low</td>\n",
       "      <td>4.0</td>\n",
       "      <td>Cat_4</td>\n",
       "      <td>D</td>\n",
       "      <td>train</td>\n",
       "      <td>D</td>\n",
       "    </tr>\n",
       "    <tr>\n",
       "      <th>12</th>\n",
       "      <td>461230</td>\n",
       "      <td>Female</td>\n",
       "      <td>No</td>\n",
       "      <td>No</td>\n",
       "      <td>Executive</td>\n",
       "      <td>0.0</td>\n",
       "      <td>Low</td>\n",
       "      <td>NaN</td>\n",
       "      <td>Cat_3</td>\n",
       "      <td>D</td>\n",
       "      <td>train</td>\n",
       "      <td>D</td>\n",
       "    </tr>\n",
       "    <tr>\n",
       "      <th>13</th>\n",
       "      <td>459573</td>\n",
       "      <td>Male</td>\n",
       "      <td>Yes</td>\n",
       "      <td>No</td>\n",
       "      <td>Lawyer</td>\n",
       "      <td>NaN</td>\n",
       "      <td>Low</td>\n",
       "      <td>1.0</td>\n",
       "      <td>Cat_6</td>\n",
       "      <td>A</td>\n",
       "      <td>train</td>\n",
       "      <td>A</td>\n",
       "    </tr>\n",
       "    <tr>\n",
       "      <th>14</th>\n",
       "      <td>460849</td>\n",
       "      <td>Female</td>\n",
       "      <td>Yes</td>\n",
       "      <td>No</td>\n",
       "      <td>Doctor</td>\n",
       "      <td>0.0</td>\n",
       "      <td>Low</td>\n",
       "      <td>1.0</td>\n",
       "      <td>Cat_3</td>\n",
       "      <td>B</td>\n",
       "      <td>train</td>\n",
       "      <td>B</td>\n",
       "    </tr>\n",
       "    <tr>\n",
       "      <th>15</th>\n",
       "      <td>460563</td>\n",
       "      <td>Female</td>\n",
       "      <td>No</td>\n",
       "      <td>No</td>\n",
       "      <td>Healthcare</td>\n",
       "      <td>1.0</td>\n",
       "      <td>Low</td>\n",
       "      <td>2.0</td>\n",
       "      <td>Cat_1</td>\n",
       "      <td>C</td>\n",
       "      <td>train</td>\n",
       "      <td>C</td>\n",
       "    </tr>\n",
       "    <tr>\n",
       "      <th>16</th>\n",
       "      <td>466865</td>\n",
       "      <td>Female</td>\n",
       "      <td>No</td>\n",
       "      <td>No</td>\n",
       "      <td>Homemaker</td>\n",
       "      <td>9.0</td>\n",
       "      <td>Low</td>\n",
       "      <td>5.0</td>\n",
       "      <td>Cat_3</td>\n",
       "      <td>D</td>\n",
       "      <td>train</td>\n",
       "      <td>D</td>\n",
       "    </tr>\n",
       "    <tr>\n",
       "      <th>17</th>\n",
       "      <td>461644</td>\n",
       "      <td>Male</td>\n",
       "      <td>No</td>\n",
       "      <td>No</td>\n",
       "      <td>Healthcare</td>\n",
       "      <td>1.0</td>\n",
       "      <td>Low</td>\n",
       "      <td>6.0</td>\n",
       "      <td>Cat_6</td>\n",
       "      <td>B</td>\n",
       "      <td>train</td>\n",
       "      <td>B</td>\n",
       "    </tr>\n",
       "    <tr>\n",
       "      <th>18</th>\n",
       "      <td>466772</td>\n",
       "      <td>Male</td>\n",
       "      <td>Yes</td>\n",
       "      <td>Yes</td>\n",
       "      <td>Entertainment</td>\n",
       "      <td>1.0</td>\n",
       "      <td>Average</td>\n",
       "      <td>4.0</td>\n",
       "      <td>Cat_6</td>\n",
       "      <td>B</td>\n",
       "      <td>train</td>\n",
       "      <td>B</td>\n",
       "    </tr>\n",
       "    <tr>\n",
       "      <th>19</th>\n",
       "      <td>464291</td>\n",
       "      <td>Female</td>\n",
       "      <td>Yes</td>\n",
       "      <td>Yes</td>\n",
       "      <td>Artist</td>\n",
       "      <td>0.0</td>\n",
       "      <td>High</td>\n",
       "      <td>1.0</td>\n",
       "      <td>Cat_6</td>\n",
       "      <td>C</td>\n",
       "      <td>train</td>\n",
       "      <td>C</td>\n",
       "    </tr>\n",
       "  </tbody>\n",
       "</table>\n",
       "</div>"
      ],
      "text/plain": [
       "        id  gender ever_married graduated     profession  work_experience  \\\n",
       "0   462809    Male           No        No     Healthcare              1.0   \n",
       "1   462643  Female          Yes       Yes       Engineer              NaN   \n",
       "2   466315  Female          Yes       Yes       Engineer              1.0   \n",
       "3   461735    Male          Yes       Yes         Lawyer              0.0   \n",
       "4   462669  Female          Yes       Yes  Entertainment              NaN   \n",
       "5   461319    Male          Yes        No         Artist              0.0   \n",
       "6   460156    Male           No       Yes     Healthcare              1.0   \n",
       "7   464347  Female           No       Yes     Healthcare              1.0   \n",
       "8   465015  Female          Yes       Yes       Engineer              0.0   \n",
       "9   465176  Female          Yes       Yes         Artist              1.0   \n",
       "10  464041  Female           No       Yes       Engineer              1.0   \n",
       "11  464942    Male           No        No     Healthcare              4.0   \n",
       "12  461230  Female           No        No      Executive              0.0   \n",
       "13  459573    Male          Yes        No         Lawyer              NaN   \n",
       "14  460849  Female          Yes        No         Doctor              0.0   \n",
       "15  460563  Female           No        No     Healthcare              1.0   \n",
       "16  466865  Female           No        No      Homemaker              9.0   \n",
       "17  461644    Male           No        No     Healthcare              1.0   \n",
       "18  466772    Male          Yes       Yes  Entertainment              1.0   \n",
       "19  464291  Female          Yes       Yes         Artist              0.0   \n",
       "\n",
       "   spending_score  family_size  var_1 segmentation   type assumed_seg  \n",
       "0             Low          4.0  Cat_4            D  train           D  \n",
       "1         Average          3.0  Cat_4            A  train           A  \n",
       "2             Low          1.0  Cat_6            B  train           B  \n",
       "3            High          2.0  Cat_6            B  train           B  \n",
       "4            High          6.0  Cat_6            A  train           A  \n",
       "5         Average          2.0  Cat_6            C  train           C  \n",
       "6             Low          3.0  Cat_6            C  train           C  \n",
       "7             Low          3.0  Cat_6            D  train           D  \n",
       "8             Low          3.0  Cat_7            D  train           D  \n",
       "9         Average          4.0  Cat_6            C  train           C  \n",
       "10            Low          3.0  Cat_6            A  train           A  \n",
       "11            Low          4.0  Cat_4            D  train           D  \n",
       "12            Low          NaN  Cat_3            D  train           D  \n",
       "13            Low          1.0  Cat_6            A  train           A  \n",
       "14            Low          1.0  Cat_3            B  train           B  \n",
       "15            Low          2.0  Cat_1            C  train           C  \n",
       "16            Low          5.0  Cat_3            D  train           D  \n",
       "17            Low          6.0  Cat_6            B  train           B  \n",
       "18        Average          4.0  Cat_6            B  train           B  \n",
       "19           High          1.0  Cat_6            C  train           C  "
      ]
     },
     "execution_count": 12,
     "metadata": {},
     "output_type": "execute_result"
    }
   ],
   "source": [
    "train_data['type'] = 'train'\n",
    "test_data['type'] = 'test'\n",
    "train_data = train_data.drop('age', axis = 1)\n",
    "test_data = test_data.drop('age', axis = 1)\n",
    "master_data = pd.concat([train_data, test_data])\n",
    "train_seg = train_data[['id', 'segmentation']]\n",
    "train_seg.columns = ['id', 'assumed_seg']\n",
    "master_data = master_data.merge(train_seg, on = 'id', how = 'left')\n",
    "#master_data = master_data.sort_values(['id', 'type'], ascending = [True, False])\n",
    "master_data.head(20)"
   ]
  },
  {
   "cell_type": "markdown",
   "execution_count": null,
   "metadata": {},
   "source": [
    "## Model Building"
   ]
  },
  {
   "cell_type": "markdown",
   "execution_count": null,
   "metadata": {},
   "source": [
    "### Label Encoding the columns and removing insignificant columns\n",
    "\n",
    "--> The work experience and family size is insignificant as per deduced by observing the sorted data"
   ]
  },
  {
   "cell_type": "code",
   "execution_count": 13,
   "metadata": {},
   "outputs": [
    {
     "data": {
      "text/html": [
       "<div>\n",
       "<style scoped>\n",
       "    .dataframe tbody tr th:only-of-type {\n",
       "        vertical-align: middle;\n",
       "    }\n",
       "\n",
       "    .dataframe tbody tr th {\n",
       "        vertical-align: top;\n",
       "    }\n",
       "\n",
       "    .dataframe thead th {\n",
       "        text-align: right;\n",
       "    }\n",
       "</style>\n",
       "<table border=\"1\" class=\"dataframe\">\n",
       "  <thead>\n",
       "    <tr style=\"text-align: right;\">\n",
       "      <th></th>\n",
       "      <th>gender</th>\n",
       "      <th>ever_married</th>\n",
       "      <th>graduated</th>\n",
       "      <th>profession</th>\n",
       "      <th>spending_score</th>\n",
       "      <th>var_1</th>\n",
       "      <th>segmentation</th>\n",
       "      <th>assumed_seg</th>\n",
       "    </tr>\n",
       "  </thead>\n",
       "  <tbody>\n",
       "    <tr>\n",
       "      <th>0</th>\n",
       "      <td>1</td>\n",
       "      <td>0</td>\n",
       "      <td>0</td>\n",
       "      <td>5</td>\n",
       "      <td>2</td>\n",
       "      <td>3</td>\n",
       "      <td>D</td>\n",
       "      <td>3</td>\n",
       "    </tr>\n",
       "    <tr>\n",
       "      <th>1</th>\n",
       "      <td>0</td>\n",
       "      <td>1</td>\n",
       "      <td>1</td>\n",
       "      <td>2</td>\n",
       "      <td>0</td>\n",
       "      <td>3</td>\n",
       "      <td>A</td>\n",
       "      <td>0</td>\n",
       "    </tr>\n",
       "    <tr>\n",
       "      <th>2</th>\n",
       "      <td>0</td>\n",
       "      <td>1</td>\n",
       "      <td>1</td>\n",
       "      <td>2</td>\n",
       "      <td>2</td>\n",
       "      <td>5</td>\n",
       "      <td>B</td>\n",
       "      <td>1</td>\n",
       "    </tr>\n",
       "    <tr>\n",
       "      <th>3</th>\n",
       "      <td>1</td>\n",
       "      <td>1</td>\n",
       "      <td>1</td>\n",
       "      <td>7</td>\n",
       "      <td>1</td>\n",
       "      <td>5</td>\n",
       "      <td>B</td>\n",
       "      <td>1</td>\n",
       "    </tr>\n",
       "    <tr>\n",
       "      <th>4</th>\n",
       "      <td>0</td>\n",
       "      <td>1</td>\n",
       "      <td>1</td>\n",
       "      <td>3</td>\n",
       "      <td>1</td>\n",
       "      <td>5</td>\n",
       "      <td>A</td>\n",
       "      <td>0</td>\n",
       "    </tr>\n",
       "  </tbody>\n",
       "</table>\n",
       "</div>"
      ],
      "text/plain": [
       "   gender  ever_married  graduated  profession  spending_score  var_1  \\\n",
       "0       1             0          0           5               2      3   \n",
       "1       0             1          1           2               0      3   \n",
       "2       0             1          1           2               2      5   \n",
       "3       1             1          1           7               1      5   \n",
       "4       0             1          1           3               1      5   \n",
       "\n",
       "  segmentation  assumed_seg  \n",
       "0            D            3  \n",
       "1            A            0  \n",
       "2            B            1  \n",
       "3            B            1  \n",
       "4            A            0  "
      ]
     },
     "execution_count": 13,
     "metadata": {},
     "output_type": "execute_result"
    }
   ],
   "source": [
    "# master_data['age_bckt'] = pd.cut(x = master_data['age'], bins = [0, 22, 32, 42, 52, 62, 90], labels = ['1', '2', '3', '4', '5', '6'])\n",
    "\n",
    "le = LabelEncoder()\n",
    "cat_cols = ['gender', 'ever_married', 'graduated', 'profession', 'spending_score', 'var_1', 'assumed_seg']\n",
    "\n",
    "for col in cat_cols:\n",
    "    master_data[col] = master_data[col].astype(str)\n",
    "    LE = le.fit(master_data[col])\n",
    "    master_data[col] = LE.transform(master_data[col])\n",
    "    \n",
    "train_data = master_data.loc[master_data['type'] == 'train']\n",
    "test_data = master_data.loc[master_data['type'] == 'test']\n",
    "\n",
    "testIDs = test_data.id.values\n",
    "\n",
    "train_data = train_data.drop(['id', 'type', 'family_size', 'work_experience'], axis = 1)\n",
    "test_data = test_data.drop(['id', 'segmentation', 'type', 'family_size', 'work_experience'], axis = 1)\n",
    "\n",
    "train_data = train_data.fillna('NaN')\n",
    "test_data = test_data.fillna('NaN')\n",
    "\n",
    "# Partitioning the features and the target\n",
    "\n",
    "X = train_data[train_data.columns[~(train_data.columns.isin(['segmentation']))].tolist()].values\n",
    "y = train_data['segmentation'].values\n",
    "\n",
    "train_data.head()"
   ]
  },
  {
   "cell_type": "markdown",
   "execution_count": null,
   "metadata": {},
   "source": [
    "### LGBM Classifier with RepeatedStratifiedKFold"
   ]
  },
  {
   "cell_type": "code",
   "execution_count": 14,
   "metadata": {},
   "outputs": [
    {
     "name": "stdout",
     "output_type": "stream",
     "text": [
      "Accuracy: 1.000 (0.000)\n",
      "Prediction:  ['B' 'C' 'A' ... 'D' 'B' 'D']\n"
     ]
    }
   ],
   "source": [
    "model = LGBMClassifier()\n",
    "cv = RepeatedStratifiedKFold(n_splits = 10, n_repeats = 3, random_state = 22)\n",
    "n_scores = cross_val_score(model, X, y, scoring = 'accuracy', cv = cv, n_jobs = -1, error_score = 'raise')\n",
    "print('Accuracy: %.3f (%.3f)' % (mean(n_scores), std(n_scores)))\n",
    "# fit the model on the whole dataset\n",
    "model = LGBMClassifier()\n",
    "model.fit(X, y)\n",
    "# make a single prediction\n",
    "yhat = (model.predict(test_data)).ravel()\n",
    "print('Prediction: ', yhat)"
   ]
  },
  {
   "cell_type": "code",
   "execution_count": 15,
   "metadata": {},
   "outputs": [],
   "source": [
    "pred = pd.DataFrame()\n",
    "#pred['ID'] = test_data['id'].values\n",
    "pred['ID'] = testIDs\n",
    "pred['Segmentation'] = pd.Series((model.predict(test_data)).ravel())\n",
    "pred.to_csv('lgbm_v1.csv', index = None)"
   ]
  },
  {
   "cell_type": "markdown",
   "execution_count": null,
   "metadata": {},
   "source": [
    "### Catboost Regressor with kFold"
   ]
  },
  {
   "cell_type": "code",
   "execution_count": 16,
   "metadata": {},
   "outputs": [
    {
     "name": "stdout",
     "output_type": "stream",
     "text": [
      "Learning rate set to 0.339749\n",
      "0:\tlearn: 0.5760959\ttotal: 71.4ms\tremaining: 14.2s\n",
      "100:\tlearn: 0.0008687\ttotal: 2.34s\tremaining: 2.3s\n",
      "199:\tlearn: 0.0003643\ttotal: 4.66s\tremaining: 0us\n",
      "Validation Accuracy: 1.0\n",
      "Learning rate set to 0.339749\n",
      "0:\tlearn: 0.5760959\ttotal: 18.2ms\tremaining: 3.62s\n",
      "100:\tlearn: 0.0008877\ttotal: 2.34s\tremaining: 2.29s\n",
      "199:\tlearn: 0.0003614\ttotal: 4.93s\tremaining: 0us\n",
      "Validation Accuracy: 1.0\n",
      "Learning rate set to 0.339749\n",
      "0:\tlearn: 0.5760960\ttotal: 18.5ms\tremaining: 3.69s\n",
      "100:\tlearn: 0.0010560\ttotal: 2.37s\tremaining: 2.32s\n",
      "199:\tlearn: 0.0004137\ttotal: 4.7s\tremaining: 0us\n",
      "Validation Accuracy: 1.0\n",
      "Learning rate set to 0.339749\n",
      "0:\tlearn: 0.5760960\ttotal: 18.3ms\tremaining: 3.64s\n",
      "100:\tlearn: 0.0011187\ttotal: 2.32s\tremaining: 2.28s\n",
      "199:\tlearn: 0.0004181\ttotal: 4.6s\tremaining: 0us\n",
      "Validation Accuracy: 1.0\n",
      "Learning rate set to 0.339752\n",
      "0:\tlearn: 0.5771824\ttotal: 21.6ms\tremaining: 4.29s\n",
      "100:\tlearn: 0.0008328\ttotal: 2.39s\tremaining: 2.35s\n",
      "199:\tlearn: 0.0003990\ttotal: 4.83s\tremaining: 0us\n",
      "Validation Accuracy: 1.0\n",
      "Learning rate set to 0.339752\n",
      "0:\tlearn: 0.5771824\ttotal: 21.4ms\tremaining: 4.26s\n",
      "100:\tlearn: 0.0008256\ttotal: 2.45s\tremaining: 2.4s\n",
      "199:\tlearn: 0.0003168\ttotal: 4.92s\tremaining: 0us\n",
      "Validation Accuracy: 1.0\n",
      "Average Validation Accuracy:  1.0\n"
     ]
    }
   ],
   "source": [
    "kfold, scores = KFold(n_splits = 6, shuffle = True, random_state = 22), list()\n",
    "for train, test in kfold.split(X):\n",
    "    X_train, X_test = X[train], X[test]\n",
    "    y_train, y_test = y[train], y[test]\n",
    "    \n",
    "    model = CatBoostClassifier(random_state = 22, max_depth = 6, n_estimators = 200, verbose = 100)\n",
    "    model.fit(X_train, y_train, cat_features = [0,1,2,3,4,5,6])\n",
    "    preds = model.predict(X_test)\n",
    "    score = accuracy_score(y_test, preds)\n",
    "    scores.append(score)\n",
    "    print('Validation Accuracy:', score)\n",
    "print(\"Average Validation Accuracy: \", sum(scores)/len(scores))"
   ]
  },
  {
   "cell_type": "code",
   "execution_count": 17,
   "metadata": {},
   "outputs": [],
   "source": [
    "pred = pd.DataFrame()\n",
    "#pred['ID'] = test_data['id'].values\n",
    "pred['ID'] = testIDs\n",
    "pred['Segmentation'] = pd.Series((model.predict(test_data)).ravel())\n",
    "pred.to_csv('catboost_v1.csv', index = None)"
   ]
  },
  {
   "cell_type": "markdown",
   "execution_count": null,
   "metadata": {},
   "source": [
    "### Public leaderboard score (LGBM): Accuracy - 92%"
   ]
  }
 ],
 "metadata": {
  "kernelspec": {
   "display_name": "Python 3",
   "language": "python",
   "name": "python3"
  },
  "language_info": {
   "codemirror_mode": {
    "name": "ipython",
    "version": 3
   },
   "file_extension": ".py",
   "mimetype": "text/x-python",
   "name": "python",
   "nbconvert_exporter": "python",
   "pygments_lexer": "ipython3",
   "version": "3.7.6"
  }
 },
 "nbformat": 4,
 "nbformat_minor": 4
}
